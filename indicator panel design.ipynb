{
 "cells": [
  {
   "cell_type": "code",
   "execution_count": 33,
   "id": "eefab776",
   "metadata": {},
   "outputs": [],
   "source": [
    "import pandas as pd\n",
    "import matplotlib.pyplot as plt\n",
    "import seaborn as sns\n",
    "\n",
    "# Assuming you have already established a connection to your Hive metastore and retrieved the data\n",
    "# Load data from Hive tables into pandas DataFrame\n",
    "df_a = pd.read_csv(r\"C:\\Users\\Sachin\\Desktop\\Data\\a.csv\")\n",
    "df_b = pd.read_csv(r\"C:\\Users\\Sachin\\Desktop\\Data\\b.csv\")\n",
    "df_c = pd.read_csv(r\"C:\\Users\\Sachin\\Desktop\\Data\\c.csv\")\n",
    "df_d = pd.read_csv(r\"C:\\Users\\Sachin\\Desktop\\Data\\d.csv\")\n"
   ]
  },
  {
   "cell_type": "code",
   "execution_count": 34,
   "id": "6617fb6a",
   "metadata": {
    "scrolled": true
   },
   "outputs": [
    {
     "name": "stdout",
     "output_type": "stream",
     "text": [
      "         date  Value\n",
      "0  30-06-2023      1\n",
      "         date  Value\n",
      "0  29-06-2023      0\n",
      "         date  Value\n",
      "0  29-06-2023      0\n",
      "         date  Value\n",
      "0  30-06-2023      1\n"
     ]
    }
   ],
   "source": [
    "print(df_a)\n",
    "print(df_b)\n",
    "print(df_c)\n",
    "print(df_d)"
   ]
  },
  {
   "cell_type": "code",
   "execution_count": 13,
   "id": "8476f2ee",
   "metadata": {},
   "outputs": [
    {
     "data": {
      "text/plain": [
       "Index(['date', 'Value'], dtype='object')"
      ]
     },
     "execution_count": 13,
     "metadata": {},
     "output_type": "execute_result"
    }
   ],
   "source": [
    "df_a.columns"
   ]
  },
  {
   "cell_type": "code",
   "execution_count": 68,
   "id": "f8f66674",
   "metadata": {},
   "outputs": [
    {
     "data": {
      "text/plain": [
       "'0    29-06-2023\\nName: date, dtype: object'"
      ]
     },
     "execution_count": 68,
     "metadata": {},
     "output_type": "execute_result"
    }
   ],
   "source": [
    "str(df_b_sum['date'])"
   ]
  },
  {
   "cell_type": "code",
   "execution_count": 83,
   "id": "dc4714ff",
   "metadata": {},
   "outputs": [
    {
     "data": {
      "image/png": "[encoded data removed]",
      "text/plain": [
       "<Figure size 800x600 with 4 Axes>"
      ]
     },
     "metadata": {},
     "output_type": "display_data"
    }
   ],
   "source": [
    "df_a_sum = df_a.groupby('Value').sum().reset_index()\n",
    "df_b_sum = df_b.groupby('Value').sum().reset_index()\n",
    "df_c_sum = df_c.groupby('Value').sum().reset_index()\n",
    "df_d_sum = df_d.groupby('Value').sum().reset_index()\n",
    "\n",
    "fig, axes = plt.subplots(nrows=2, ncols=2, figsize=(8, 6))\n",
    "\n",
    "\n",
    "\n",
    "# Hide the x-axis,y-axis for all subplots\n",
    "for ax in axes.flatten():\n",
    "    ax.set_xticklabels([])\n",
    "    ax.set_xticks([])\n",
    "    ax.set_yticklabels([])\n",
    "    ax.set_yticks([])\n",
    "\n",
    "# Visualize Table A\n",
    "ax = axes[0, 0]\n",
    "ax.fill_between(df_a_sum['Value'], 0, df_a_sum['Value'] , color='green' if df_a_sum['Value'].sum() > 0 else 'red')\n",
    "if df_a_sum['Value'].sum() > 0 :\n",
    "    ax.set_facecolor('green')\n",
    "else:\n",
    "    ax.set_facecolor('red')\n",
    "    \n",
    "ax.set_title('Table A')\n",
    "#ax.set_xlabel(df_a_sum['date'])\n",
    "ax.set_xlabel(f'latest at (Date: {df_a_sum[\"date\"].iloc[0]})')\n",
    "#ax.set_ylabel('Sum')\n",
    "\n",
    "# Visualize Table B\n",
    "ax = axes[0, 1]\n",
    "ax.fill_between(df_b_sum['Value'], 0, df_b_sum['Value'], color='green' if df_b_sum['Value'].sum() > 0 else 'red')\n",
    "if df_b_sum['Value'].sum() > 0 :\n",
    "    ax.set_facecolor('green')\n",
    "else:\n",
    "    ax.set_facecolor('red')\n",
    "\n",
    "ax.set_title('Table B')\n",
    "#ax.set_xlabel('Value')\n",
    "ax.set_xlabel(f'latest at (Date: {df_b_sum[\"date\"].iloc[0]})')\n",
    "#ax.set_ylabel('Sum')\n",
    "\n",
    "# Visualize Table C\n",
    "ax = axes[1, 0]\n",
    "ax.fill_between(df_c_sum['Value'], 0, df_c_sum['Value'], color='green' if df_c_sum['Value'].sum() > 0 else 'red')\n",
    "if df_c_sum['Value'].sum() > 0 :\n",
    "    ax.set_facecolor('green')\n",
    "else:\n",
    "    ax.set_facecolor('red')\n",
    "\n",
    "ax.set_title('Table C')\n",
    "#ax.set_xlabel('Value')\n",
    "ax.set_xlabel(f'latest at (Date: {df_c_sum[\"date\"].iloc[0]})')\n",
    "#ax.set_ylabel('Sum')\n",
    "\n",
    "# Visualize Table D\n",
    "ax = axes[1, 1]\n",
    "ax.fill_between(df_d_sum['Value'], 0, df_d_sum['Value'], color='green' if df_d_sum['Value'].sum() > 0 else 'red')\n",
    "if df_d_sum['Value'].sum() > 0 :\n",
    "    ax.set_facecolor('green')\n",
    "else:\n",
    "    ax.set_facecolor('red')\n",
    "\n",
    "ax.set_title('Table D')\n",
    "#ax.set_xlabel('Value')\n",
    "#ax.set_ylabel('Sum')\n",
    "ax.set_xlabel(f'latest at (Date: {df_d_sum[\"date\"].iloc[0]})')\n",
    "\n",
    "# Adjust the layout and spacing between subplots\n",
    "plt.tight_layout()\n",
    "\n",
    "# Display the dashboard\n",
    "plt.show()"
   ]
  },
  {
   "cell_type": "code",
   "execution_count": null,
   "id": "00e98e71",
   "metadata": {},
   "outputs": [],
   "source": []
  }
 ],
 "metadata": {
  "kernelspec": {
   "display_name": "Python 3 (ipykernel)",
   "language": "python",
   "name": "python3"
  },
  "language_info": {
   "codemirror_mode": {
    "name": "ipython",
    "version": 3
   },
   "file_extension": ".py",
   "mimetype": "text/x-python",
   "name": "python",
   "nbconvert_exporter": "python",
   "pygments_lexer": "ipython3",
   "version": "3.10.9"
  }
 },
 "nbformat": 4,
 "nbformat_minor": 5
}
